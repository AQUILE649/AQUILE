{
 "cells": [
  {
   "cell_type": "markdown",
   "id": "6c302dfe",
   "metadata": {},
   "source": [
    "Question 1"
   ]
  },
  {
   "cell_type": "code",
   "execution_count": 4,
   "id": "adbf8efb",
   "metadata": {},
   "outputs": [
    {
     "name": "stdout",
     "output_type": "stream",
     "text": [
      "Oussama\n",
      "El Bazy\n",
      "El Bazy Oussama\n"
     ]
    }
   ],
   "source": [
    "#Write a Python program that accepts the user's first and last name, and prints them in reverse order with a space between them.\n",
    "\n",
    "\n",
    "First_name = input()\n",
    "Last_name = input()\n",
    "print(f\"{Last_name} {First_name}\")"
   ]
  },
  {
   "cell_type": "markdown",
   "id": "4d2563f9",
   "metadata": {},
   "source": [
    "Question 2"
   ]
  },
  {
   "cell_type": "code",
   "execution_count": 20,
   "id": "52ff5cdb",
   "metadata": {},
   "outputs": [
    {
     "name": "stdout",
     "output_type": "stream",
     "text": [
      "615\n"
     ]
    }
   ],
   "source": [
    "'''Write a Python program that accepts an integer (n) and computes the value of n+nn+nnn.\n",
    "\n",
    "The sample value of n is 5.\n",
    "\n",
    "Expected Result: 615 (5+55+555)\n",
    "\n",
    "'''\n",
    "n =5 #nombre à additioner\n",
    "j =3 #Combien de fois il a été additionné\n",
    "r=0 #Boite vide pour initialisation\n",
    "for i in range (1,j+1,1):\n",
    "    \n",
    "    r+=int(str(n)*i)\n",
    "print(r)\n"
   ]
  },
  {
   "cell_type": "markdown",
   "id": "a2f2b555",
   "metadata": {},
   "source": [
    "Question 3"
   ]
  },
  {
   "cell_type": "code",
   "execution_count": 23,
   "id": "be9dd1f8",
   "metadata": {},
   "outputs": [
    {
     "name": "stdout",
     "output_type": "stream",
     "text": [
      "insert X:5\n",
      "odd\n"
     ]
    }
   ],
   "source": [
    "x=int(input(\"insert X:\"))\n",
    "if x%2==0:\n",
    "    print(\"even\")\n",
    "else:\n",
    "    print(\"odd\")"
   ]
  },
  {
   "cell_type": "markdown",
   "id": "85e37dc2",
   "metadata": {},
   "source": [
    "Question 4"
   ]
  },
  {
   "cell_type": "code",
   "execution_count": 28,
   "id": "61313fc3",
   "metadata": {},
   "outputs": [
    {
     "name": "stdout",
     "output_type": "stream",
     "text": [
      "2002 2009 2016 2023 2037 2044 2051 2058 2072 2079 2086 2093 2107 2114 2121 2128 2142 2149 2156 2163 2177 2184 2191 2198 2212 2219 2226 2233 2247 2254 2261 2268 2282 2289 2296 2303 2317 2324 2331 2338 2352 2359 2366 2373 2387 2394 2401 2408 2422 2429 2436 2443 2457 2464 2471 2478 2492 2499 2506 2513 2527 2534 2541 2548 2562 2569 2576 2583 2597 2604 2611 2618 2632 2639 2646 2653 2667 2674 2681 2688 2702 2709 2716 2723 2737 2744 2751 2758 2772 2779 2786 2793 2807 2814 2821 2828 2842 2849 2856 2863 2877 2884 2891 2898 2912 2919 2926 2933 2947 2954 2961 2968 2982 2989 2996 3003 3017 3024 3031 3038 3052 3059 3066 3073 3087 3094 3101 3108 3122 3129 3136 3143 3157 3164 3171 3178 3192 3199 "
     ]
    }
   ],
   "source": [
    "for i in range (2000,3201):\n",
    " if i%7==0 and i % 5 !=0:\n",
    "    print(i, end= \" \")"
   ]
  },
  {
   "cell_type": "markdown",
   "id": "10f7d9f3",
   "metadata": {},
   "source": [
    "Question 5"
   ]
  },
  {
   "cell_type": "code",
   "execution_count": 30,
   "id": "a58cde0b",
   "metadata": {},
   "outputs": [
    {
     "name": "stdout",
     "output_type": "stream",
     "text": [
      "40320\n"
     ]
    }
   ],
   "source": [
    "'''Write a program that can compute the factorial of a given number. The results should be printed in a sequence on a single line. \n",
    "Suppose the following input is supplied to the program: 8. Then, the output should be: 40320 \n",
    "\n",
    "Hint: The factorial function (symbol: !) multiplies all whole numbers from our chosen number down to 1. Examples: \n",
    "\n",
    "4! = 4 × 3 × 2 × 1\n",
    "\n",
    "8! = 8 × 7 × 6 × 5 × 4 × 3 × 2 × 1\n",
    "\n",
    "1! = 1\n",
    "\n",
    "0! = 1 (by convention)\n",
    "\n",
    "'''\n",
    "f=1\n",
    "n=8\n",
    "b=1\n",
    "for i in range (n,0,-1): #n=8 , 0= pour qu’il s’arrête sur le *1, -1 pour qu’il descende de *4 jusqu’à *1\n",
    "    b *= i\n",
    "print (b)\n"
   ]
  },
  {
   "cell_type": "markdown",
   "id": "352062aa",
   "metadata": {},
   "source": [
    "Question 6"
   ]
  },
  {
   "cell_type": "code",
   "execution_count": 58,
   "id": "777118b5",
   "metadata": {},
   "outputs": [
    {
     "name": "stdout",
     "output_type": "stream",
     "text": [
      "hlota\n"
     ]
    }
   ],
   "source": [
    "'''Write a program to remove the characters which have odd index values of a given string.\n",
    "\n",
    "For example: string =\"hello team\"\n",
    "\n",
    "The result should be: hlota\n",
    "\n",
    "'''\n",
    "strr = \"hello team\"\n",
    "print(str[0]+str[2]+str[4]+str[6]+str[8])"
   ]
  },
  {
   "cell_type": "markdown",
   "id": "387001d8",
   "metadata": {},
   "source": [
    "Question 7"
   ]
  },
  {
   "cell_type": "code",
   "execution_count": 68,
   "id": "f3897878",
   "metadata": {},
   "outputs": [
    {
     "name": "stdout",
     "output_type": "stream",
     "text": [
      "100\n",
      "90.0\n"
     ]
    }
   ],
   "source": [
    "'''In this challenge, you must discount a price according to its value.\n",
    "\n",
    "- If the price is 500 or above, there will be a 50% discount.\n",
    "\n",
    "- If the price is between 200 and 500 (200 inclusive), there will be a 30% discount.\n",
    "\n",
    "- If the price is less than 200, there will be a 10% discount.\n",
    "\n",
    "'''\n",
    "n = int(input())\n",
    "if n >=500:\n",
    "    print(n*50/100)\n",
    "elif n >=200 and n <500:\n",
    "    print (n-(n*30/100))\n",
    "else: print (n-(n*10/100))"
   ]
  },
  {
   "cell_type": "code",
   "execution_count": null,
   "id": "9846acef",
   "metadata": {},
   "outputs": [],
   "source": []
  }
 ],
 "metadata": {
  "kernelspec": {
   "display_name": "Python 3 (ipykernel)",
   "language": "python",
   "name": "python3"
  },
  "language_info": {
   "codemirror_mode": {
    "name": "ipython",
    "version": 3
   },
   "file_extension": ".py",
   "mimetype": "text/x-python",
   "name": "python",
   "nbconvert_exporter": "python",
   "pygments_lexer": "ipython3",
   "version": "3.9.13"
  }
 },
 "nbformat": 4,
 "nbformat_minor": 5
}
