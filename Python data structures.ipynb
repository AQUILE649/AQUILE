{
 "cells": [
  {
   "cell_type": "markdown",
   "id": "412852fc",
   "metadata": {},
   "source": [
    "Question 1"
   ]
  },
  {
   "cell_type": "code",
   "execution_count": 1,
   "id": "7642dfbe",
   "metadata": {},
   "outputs": [
    {
     "name": "stdout",
     "output_type": "stream",
     "text": [
      "Result = 36\n"
     ]
    }
   ],
   "source": [
    "'''Write a Python program that multiplies all the items in a list.\n",
    "\n",
    "Sample list= [2, 3, 6]\n",
    "\n",
    "Result = 36\n",
    "'''\n",
    "my_list = [2, 3, 6]\n",
    "result = 1\n",
    "\n",
    "for i in my_list:\n",
    "    result = result * i\n",
    "\n",
    "print(\"Result =\", result)"
   ]
  },
  {
   "cell_type": "markdown",
   "id": "2c83eb7e",
   "metadata": {},
   "source": [
    "Question 2"
   ]
  },
  {
   "cell_type": "code",
   "execution_count": 2,
   "id": "48e2135d",
   "metadata": {},
   "outputs": [
    {
     "name": "stdout",
     "output_type": "stream",
     "text": [
      "[(2, 1), (1, 2), (2, 3), (4, 4), (2, 5)]\n"
     ]
    }
   ],
   "source": [
    "'''Write a Python program to get a list, sorted in increasing order by the last element in each tuple, from a given list \n",
    "of non-empty tuples.\n",
    "\n",
    "Sample List : [(2, 5), (1, 2), (4, 4), (2, 3), (2, 1)]\n",
    "\n",
    "Expected result : [(2, 1), (1, 2), (2, 3), (4, 4), (2, 5)]\n",
    "\n",
    "Hint: You can use the sort function.\n",
    "\n",
    "'''\n",
    "my_list = [(2, 5), (1, 2), (4, 4), (2, 3), (2, 1)]\n",
    "my_list.sort(key = lambda x:x[1] )\n",
    "print(my_list)"
   ]
  },
  {
   "cell_type": "markdown",
   "id": "59073858",
   "metadata": {},
   "source": [
    "Question 3"
   ]
  },
  {
   "cell_type": "code",
   "execution_count": 3,
   "id": "7380564f",
   "metadata": {},
   "outputs": [
    {
     "name": "stdout",
     "output_type": "stream",
     "text": [
      "{'a': 400, 'b': 400, 'd': 400, 'c': 300}\n"
     ]
    }
   ],
   "source": [
    "\"\"\"Write a Python program that combines two dictionaries by adding values for common keys.\n",
    "\n",
    "d1 = {'a': 100, 'b': 200, 'c':300}\n",
    "\n",
    "d2 = {'a': 300, 'b': 200, 'd':400}\n",
    "\n",
    "Expected result: {'a': 400, 'b': 400, 'd': 400, 'c': 300}\n",
    "\n",
    "\n",
    "\"\"\"\n",
    "d1 = {'a': 100, 'b': 200, 'c':300}\n",
    "\n",
    "d2 = {'a': 300, 'b': 200, 'd':400}\n",
    "\n",
    "\n",
    "for key in d2:\n",
    "    if key in d1:\n",
    "        d2[key] = d2[key] + d1[key]\n",
    "    \n",
    "\n",
    "for key in d1.keys():\n",
    "    if key not in d2.keys():\n",
    "        d2[key] = d1[key]\n",
    "print(d2)\n",
    "\n"
   ]
  },
  {
   "cell_type": "markdown",
   "id": "e244c8fb",
   "metadata": {},
   "source": [
    "Question 4"
   ]
  },
  {
   "cell_type": "code",
   "execution_count": 4,
   "id": "1fae7fef",
   "metadata": {},
   "outputs": [
    {
     "name": "stdout",
     "output_type": "stream",
     "text": [
      "Enter a number: 8\n",
      "{1: 1, 2: 4, 3: 9, 4: 16, 5: 25, 6: 36, 7: 49, 8: 64}\n"
     ]
    }
   ],
   "source": [
    "\"\"\"With a given integral number n, write a program to generate a dictionary that contains (i, i*i) \n",
    "so that is an integral number between 1 and n (both included). \n",
    "Then the program should print the dictionary. Suppose the following input is supplied to the program: 8.\n",
    "Then, the output should be: {1: 1, 2: 4, 3: 9, 4: 16, 5: 25, 6: 36, 7: 49, 8: 64}\n",
    "\n",
    "\"\"\"\n",
    "n = int(input(\"Enter a number: \"))\n",
    "d = {}\n",
    "\n",
    "for i in range(1, n+1):\n",
    "    d[i] = i*i\n",
    "\n",
    "print(d)\n"
   ]
  },
  {
   "cell_type": "markdown",
   "id": "b69cb43c",
   "metadata": {},
   "source": [
    "Question 5"
   ]
  },
  {
   "cell_type": "code",
   "execution_count": 5,
   "id": "5d4b840a",
   "metadata": {},
   "outputs": [
    {
     "name": "stdout",
     "output_type": "stream",
     "text": [
      "[('item3', '24.5'), ('item2', '15.10'), ('item1', '12.20')]\n"
     ]
    }
   ],
   "source": [
    "\"\"\"\n",
    "Write a program to sort a tuple by its float element.\n",
    "\n",
    "For example: list= [('item1', '12.20'), ('item2', '15.10'), ('item3', '24.5')]\n",
    "\n",
    "Expected result: [('item3', '24.5'), ('item2', '15.10'), ('item1', '12.20')]\n",
    "\n",
    "\n",
    "\"\"\"\n",
    "\n",
    "my_list = [('item1', '12.20'), ('item2', '15.10'), ('item3', '24.5')]\n",
    "\n",
    "def get_float_value(tup):\n",
    "    return float(tup[1])\n",
    "\n",
    "sorted_list = sorted(my_list, key=get_float_value, reverse=True)\n",
    "\n",
    "print(sorted_list)"
   ]
  },
  {
   "cell_type": "markdown",
   "id": "c0477933",
   "metadata": {},
   "source": [
    "Question 6"
   ]
  },
  {
   "cell_type": "code",
   "execution_count": null,
   "id": "739d32bb",
   "metadata": {},
   "outputs": [],
   "source": [
    "\"\"\"Write a Python program to create a set.\n",
    "\n",
    "Examples : {0, 1, 2, 3, 4}\n",
    "\n",
    "Write a Python program to iteration over sets.\n",
    "\n",
    "Write a Python program to add members in a set and to remove items from a given set.\n",
    "\n",
    "\"\"\"\n",
    "\n",
    "my_set = {0, 1, 2, 3, 4}\n",
    "print(my_set)\n",
    "\n",
    "#Iterating over a set\n",
    "my_set = {0, 1, 2, 3, 4}\n",
    "for item in my_set:\n",
    "    print(item)\n",
    "#Adding members to a set\n",
    "my_set = {0, 1, 2, 3, 4}\n",
    "my_set.add(5)\n",
    "print(my_set)\n",
    "\n",
    "#Adding multiple members to a set\n",
    "my_set.update([6, 7, 8])\n",
    "print(my_set)\n",
    "\n",
    "#Removing an item from a set\n",
    "my_set = {0, 1, 2, 3, 4}\n",
    "my_set.remove(2)\n",
    "print(my_set)\n",
    "\n",
    "#Removing an item from a set using discard() method\n",
    "my_set.discard(3)\n",
    "print(my_set)\n",
    "\n",
    "#Removing all the items from a set using clear() method\n",
    "my_set.clear()\n",
    "print(my_set)\n"
   ]
  }
 ],
 "metadata": {
  "kernelspec": {
   "display_name": "Python 3 (ipykernel)",
   "language": "python",
   "name": "python3"
  },
  "language_info": {
   "codemirror_mode": {
    "name": "ipython",
    "version": 3
   },
   "file_extension": ".py",
   "mimetype": "text/x-python",
   "name": "python",
   "nbconvert_exporter": "python",
   "pygments_lexer": "ipython3",
   "version": "3.9.13"
  }
 },
 "nbformat": 4,
 "nbformat_minor": 5
}
